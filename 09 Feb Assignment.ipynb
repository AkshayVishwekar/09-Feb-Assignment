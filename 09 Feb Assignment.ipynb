{
 "cells": [
  {
   "cell_type": "markdown",
   "id": "5b81620d-af11-42fe-b0da-60b3864cf271",
   "metadata": {},
   "source": [
    "##Q1 Create a vehicle class with an init method having instance variables as name_of_vehicle, max_speed\n",
    "and average_of_vehicle."
   ]
  },
  {
   "cell_type": "code",
   "execution_count": 2,
   "id": "37c94b20-d3be-4e1c-a540-4c087c5e74f4",
   "metadata": {},
   "outputs": [],
   "source": [
    "#a vehicle class with an init method having instance variables as name_of_vehicle, max_speed and average_of_vehicle.\n",
    "class vehicle:\n",
    "    def __init__(self, name_of_vehicle, max_speed, average_of_vehicle):\n",
    "        self.name_of_vehicle = name_of_vehicle\n",
    "        self.max_speed = max_speed\n",
    "        self.average_of_vehicle = average_of_vehicle"
   ]
  },
  {
   "cell_type": "markdown",
   "id": "13b0d309-9c3d-4327-8c1f-a5a98bac232c",
   "metadata": {},
   "source": [
    "##Q2. Create a child class car from the vehicle class created in Que 1, which will inherit the vehicle class.\n",
    "Create a method named seating_capacity which takes capacity as an argument and returns the name of\n",
    "the vehicle and its seating capacity."
   ]
  },
  {
   "cell_type": "code",
   "execution_count": 3,
   "id": "310fb7b3-6b43-4ff5-8de2-43d26acb0462",
   "metadata": {},
   "outputs": [],
   "source": [
    "class car(vehicle):\n",
    "    def seating_capacity(self, capacity):\n",
    "        self.capacity = capacity\n",
    "        return self.name_of_vehicle, self.capacity"
   ]
  },
  {
   "cell_type": "code",
   "execution_count": 6,
   "id": "0c6ae777-aa2b-4000-85b1-0fe32f82283b",
   "metadata": {},
   "outputs": [
    {
     "data": {
      "text/plain": [
       "('Ford Mustang', 2)"
      ]
     },
     "execution_count": 6,
     "metadata": {},
     "output_type": "execute_result"
    }
   ],
   "source": [
    "c1= car(\"Ford Mustang\", 240, 260)\n",
    "c1.seating_capacity(2)"
   ]
  },
  {
   "cell_type": "markdown",
   "id": "68460c72-c34f-4942-ac48-e3cb922fba3f",
   "metadata": {},
   "source": [
    "##Q3. What is multiple inheritance? Write a python code to demonstrate multiple inheritance."
   ]
  },
  {
   "cell_type": "markdown",
   "id": "8c567add-3e66-4dc0-90b7-aac7778ccd2b",
   "metadata": {},
   "source": [
    "Ans : Multiple inheritance is a feature of object-oriented programming (OOP) languages where a class can inherit properties and methods from more than one parent class. In other words, a class can inherit from multiple classes, thus inheriting the attributes and behaviors of all its parent classes."
   ]
  },
  {
   "cell_type": "markdown",
   "id": "6091b8e9-23c3-4a9f-ab08-420f1804cceb",
   "metadata": {},
   "source": [
    "##Q4. What are getter and setter in python? Create a class and create a getter and a setter method in this\n",
    "class."
   ]
  },
  {
   "cell_type": "markdown",
   "id": "aa4d446e-ce13-4575-a1f0-d11bef467627",
   "metadata": {},
   "source": [
    "Ans : In object-oriented programming, getters and setters are methods used to retrieve and update the values of object properties, respectively. The use of getters and setters is a common technique for encapsulating object data and ensuring that it can be accessed and modified in a controlled and predictable manner."
   ]
  },
  {
   "cell_type": "markdown",
   "id": "07b52709-40dd-4867-a07d-4a41ad1a1647",
   "metadata": {},
   "source": [
    "##Q5.What is method overriding in python? Write a python code to demonstrate method overriding."
   ]
  },
  {
   "cell_type": "markdown",
   "id": "dcbca72e-a640-40b7-a034-e6fc69fee4ee",
   "metadata": {},
   "source": [
    "Ans : Method overriding is a feature of object-oriented programming in which a subclass can provide a new implementation of a method that is already defined in its parent class. The subclass method is said to \"override\" the parent class method. This allows the subclass to change or extend the behavior of the method inherited from the parent class, while still maintaining the same method signature."
   ]
  },
  {
   "cell_type": "code",
   "execution_count": 7,
   "id": "c2eaddd5-88a9-4124-948c-83e9c4a12760",
   "metadata": {},
   "outputs": [
    {
     "name": "stdout",
     "output_type": "stream",
     "text": [
      "200\n",
      "314.0\n"
     ]
    }
   ],
   "source": [
    "class Shape:\n",
    "    def area(self):\n",
    "        pass\n",
    "\n",
    "class Rectangle(Shape):\n",
    "    def __init__(self, width, height):\n",
    "        self.width = width\n",
    "        self.height = height\n",
    "\n",
    "    def area(self):\n",
    "        return self.width * self.height\n",
    "\n",
    "class Circle(Shape):\n",
    "    def __init__(self, radius):\n",
    "        self.radius = radius\n",
    "\n",
    "    def area(self):\n",
    "        return 3.14 * self.radius * self.radius\n",
    "\n",
    "rect = Rectangle(10, 20)\n",
    "print(rect.area()) # Output: 200\n",
    "\n",
    "circle = Circle(10)\n",
    "print(circle.area()) # Output: 314.0"
   ]
  },
  {
   "cell_type": "code",
   "execution_count": null,
   "id": "b8212765-f933-45d4-9f54-e6511741d582",
   "metadata": {},
   "outputs": [],
   "source": []
  },
  {
   "cell_type": "code",
   "execution_count": null,
   "id": "f7007eb0-6b61-4306-9357-3feeb4784e18",
   "metadata": {},
   "outputs": [],
   "source": []
  },
  {
   "cell_type": "code",
   "execution_count": null,
   "id": "8594554d-9606-4250-9d14-7a97461da5c1",
   "metadata": {},
   "outputs": [],
   "source": []
  },
  {
   "cell_type": "code",
   "execution_count": null,
   "id": "b5af844b-6857-4d2e-b951-d3d26a6882c6",
   "metadata": {},
   "outputs": [],
   "source": []
  },
  {
   "cell_type": "code",
   "execution_count": null,
   "id": "a8fe062c-3b57-4d65-8180-a232c805d033",
   "metadata": {},
   "outputs": [],
   "source": []
  },
  {
   "cell_type": "code",
   "execution_count": null,
   "id": "9851c49d-c751-4bec-bc84-f3796ce83a66",
   "metadata": {},
   "outputs": [],
   "source": []
  },
  {
   "cell_type": "code",
   "execution_count": null,
   "id": "cc26ea59-534b-4254-80c2-9c383af721bd",
   "metadata": {},
   "outputs": [],
   "source": []
  },
  {
   "cell_type": "code",
   "execution_count": null,
   "id": "9e24be3c-3479-4ea6-ab93-56f9ed7d6f04",
   "metadata": {},
   "outputs": [],
   "source": []
  }
 ],
 "metadata": {
  "kernelspec": {
   "display_name": "Python 3 (ipykernel)",
   "language": "python",
   "name": "python3"
  },
  "language_info": {
   "codemirror_mode": {
    "name": "ipython",
    "version": 3
   },
   "file_extension": ".py",
   "mimetype": "text/x-python",
   "name": "python",
   "nbconvert_exporter": "python",
   "pygments_lexer": "ipython3",
   "version": "3.10.8"
  }
 },
 "nbformat": 4,
 "nbformat_minor": 5
}
